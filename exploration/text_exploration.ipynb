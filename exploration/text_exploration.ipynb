{
 "cells": [
  {
   "cell_type": "code",
   "execution_count": null,
   "metadata": {},
   "outputs": [],
   "source": [
    "import glob\n",
    "import pandas as pd\n",
    "import os\n",
    "import matplotlib.pyplot as plt\n",
    "import datetime\n",
    "import re\n",
    "from textblob import TextBlob\n"
   ]
  },
  {
   "cell_type": "code",
   "execution_count": null,
   "metadata": {},
   "outputs": [],
   "source": [
    "fire_csv_list = sorted(glob.glob('../../tweets/megafires/clean_csvs/*.csv'))"
   ]
  },
  {
   "cell_type": "code",
   "execution_count": null,
   "metadata": {},
   "outputs": [],
   "source": [
    "base_df = pd.DataFrame(None, index=range(len(fire_csv_list)), columns=[])\n",
    "base_df['origin_csv'] = [os.path.basename(f) for f in fire_csv_list]\n",
    "base_df['name'] = ['-'.join(os.path.basename(os.path.splitext(f)[0])\n",
    "                   .split('-')[1:]) for f in fire_csv_list]\n",
    "base_df['year'] = [os.path.basename(f).split('-')[0] for f in fire_csv_list]"
   ]
  },
  {
   "cell_type": "code",
   "execution_count": null,
   "metadata": {},
   "outputs": [],
   "source": [
    "def read_df_timestamps(csv_path):\n",
    "    df = pd.read_csv(csv_path)\n",
    "    # Drop invalid timestamps\n",
    "    valid_ts = df.Timestamp.str[-3:] == \"UTC\"\n",
    "    df = df.loc[valid_ts]\n",
    "    df['Timestamp'] = pd.to_datetime(df.Timestamp, format='%Y-%m-%d %H:%M:%S UTC')\n",
    "    return df\n",
    "\n",
    "def basic_plot(df, target_col, topn=50):\n",
    "    plt.figure(figsize=(60,20), facecolor='white')\n",
    "    plt.tick_params(axis='both', which='major')\n",
    "    df = df.sort_values(target_col, ascending=False)\n",
    "    if topn < df.shape[0]:\n",
    "        df = df[0:(topn+1)]\n",
    "    plt.bar(df['name'], df[target_col])\n",
    "    plt.xticks(fontsize=45, rotation=90)\n",
    "    plt.yticks(fontsize=40)\n",
    "    plt.ylabel(target_col, fontsize=60)\n",
    "\n",
    "    plt.show()"
   ]
  },
  {
   "cell_type": "markdown",
   "metadata": {},
   "source": [
    "# Smoke (and other special terms) mentions"
   ]
  },
  {
   "cell_type": "code",
   "execution_count": null,
   "metadata": {},
   "outputs": [],
   "source": [
    "def count_smoke_tweets(csv_path):\n",
    "    df = read_df_timestamps(csv_path)\n",
    "    smoke_mask = df.Text.str.contains(r'(?i)smoke')\n",
    "    print('Total Tweets: {}'.format(df.shape[0]))\n",
    "    print('Total Smoke Tweets: {}'.format(smoke_mask.sum()))\n",
    "    print(df.Text[smoke_mask])\n",
    "    \n",
    "def basic_term_counts(df):\n",
    "    out_dict = {}\n",
    "    out_dict['total_tweets'] = df.shape[0]\n",
    "    term_regex_dict = {'smoke': r'(?i)\\bsmoke',\n",
    "                       'haze': r'(?i)\\bhaz(y|i)',\n",
    "                       'evac': r'(?i)\\bevac'}\n",
    "    for term in term_regex_dict.keys():\n",
    "        out_dict['{}_tweets'.format(term)] = df.Text.str.contains(\n",
    "            term_regex_dict[term]).sum()\n",
    "        out_dict['{}_tweet_frac'.format(term)] = (out_dict['{}_tweets'.format(term)]\n",
    "                                                  /df.shape[0])\n",
    "\n",
    "    return out_dict\n",
    "\n",
    "def get_term_counts(csv_list):\n",
    "    out_dict_list = []\n",
    "    for fcsv in csv_list:\n",
    "        df = read_df_timestamps(fcsv)\n",
    "        out_dict = basic_term_counts(df)\n",
    "        out_dict['origin_csv'] = os.path.basename(fcsv)\n",
    "        out_dict_list.append(out_dict)\n",
    "    \n",
    "    terms_df = pd.DataFrame.from_dict(out_dict_list)\n",
    "    \n",
    "    return terms_df\n",
    "\n",
    "def plot_smoke_tweets_time(csv_path):\n",
    "    df = read_df_timestamps(csv_path)\n",
    "    fig, ax1 = plt.subplots(figsize=(20,10), facecolor='white');\n",
    "    tweet_counts = df['Timestamp'].groupby(df['Timestamp'].dt.date).count()\n",
    "    ax1.plot_date(tweet_counts.index.values, tweet_counts.values, 'b-')\n",
    "    ax1.set_xlabel('Date')\n",
    "    ax1.set_ylabel('Total Tweets', color='b')\n",
    "    ax1.tick_params('y', colors='b')\n",
    "    \n",
    "    ax2 = ax1.twinx()\n",
    "    smoke_mask = df.Text.str.contains(r'(?i)smoke')\n",
    "    smoke_df = df[smoke_mask]\n",
    "    smoke_tweet_counts = smoke_df['Timestamp'].groupby(\n",
    "        smoke_df['Timestamp'].dt.date\n",
    "        ).count()\n",
    "    ax2.plot_date(smoke_tweet_counts.index.values, smoke_tweet_counts.values, 'r-')\n",
    "    ax2.set_ylabel('Smoke Tweets', color='r')\n",
    "    ax2.tick_params('y', colors='r')\n",
    "    plt.show()"
   ]
  },
  {
   "cell_type": "code",
   "execution_count": null,
   "metadata": {},
   "outputs": [],
   "source": [
    "terms_df = get_term_counts(fire_csv_list)\n",
    "atts_df = base_df.merge(terms_df, on='origin_csv')"
   ]
  },
  {
   "cell_type": "code",
   "execution_count": null,
   "metadata": {},
   "outputs": [],
   "source": [
    "basic_plot(atts_df, 'smoke_tweet_frac',topn=10)"
   ]
  },
  {
   "cell_type": "code",
   "execution_count": null,
   "metadata": {},
   "outputs": [],
   "source": [
    "plot_smoke_tweets_time('/home/tweets/megafires/clean_csvs/2012-waldo-canyon-fire-co.csv')"
   ]
  },
  {
   "cell_type": "markdown",
   "metadata": {},
   "source": [
    "# NLP Cleanup\n",
    "With help from: https://www.earthdatascience.org/courses/earth-analytics-python/get-data-using-apis/calculate-tweet-word-frequencies-sentiments-in-python/"
   ]
  },
  {
   "cell_type": "code",
   "execution_count": null,
   "metadata": {},
   "outputs": [],
   "source": [
    "def remove_url(txt):\n",
    "    \"\"\"Replace URLs found in a text string with nothing \n",
    "    (i.e. it will remove the URL from the string).\n",
    "\n",
    "    Parameters\n",
    "    ----------\n",
    "    txt : string\n",
    "        A text string that you want to parse and remove urls.\n",
    "\n",
    "    Returns\n",
    "    -------\n",
    "    The same txt string with url's removed.\n",
    "    \"\"\"\n",
    "\n",
    "    return \" \".join(re.sub(\"([^0-9A-Za-z \\t])|(\\w+:\\/\\/\\S+)\", \"\", txt).split())\n",
    "\n",
    "def clean_tweet_text(df, lower_case=True):\n",
    "    \"\"\"Clean Tweet Text, optionally lowercasing all\"\"\"\n",
    "    df['clean_text'] = df['Text'].str.lower().apply(remove_url)\n",
    "    return df"
   ]
  },
  {
   "cell_type": "code",
   "execution_count": null,
   "metadata": {},
   "outputs": [],
   "source": [
    "clean_tweet_text(read_df_timestamps('/home/tweets/megafires/clean_csvs/2010-four-mile-canyon-fire-co.csv'))"
   ]
  },
  {
   "cell_type": "markdown",
   "metadata": {},
   "source": [
    "# Sentiment"
   ]
  },
  {
   "cell_type": "code",
   "execution_count": null,
   "metadata": {},
   "outputs": [],
   "source": [
    "from nltk.sentiment.vader import SentimentIntensityAnalyzer\n",
    "\n",
    "def add_sentiment(df):\n",
    "    sid = SentimentIntensityAnalyzer()\n",
    "    df['vader_sentiment'] = [sid.polarity_scores(tweet)['compound'] for tweet in df['clean_text']]\n",
    "    df['textblob_sentiment'] = [TextBlob(tweet).sentiment.polarity for tweet in df['clean_text']]\n",
    "    return df\n",
    "\n",
    "def get_mean_sentiment(csv_list):\n",
    "    out_dict_list = []\n",
    "    for fcsv in csv_list:\n",
    "        out_dict = {}\n",
    "        df = clean_tweet_text(read_df_timestamps(fcsv))\n",
    "        df = add_sentiment(df)\n",
    "        out_dict['sent_mean_vader'] = df['vader_sentiment'].mean()\n",
    "        out_dict['sent_mean_textblob'] = df['textblob_sentiment'].mean()\n",
    "        out_dict['origin_csv'] = os.path.basename(fcsv)\n",
    "        out_dict_list.append(out_dict)\n",
    "    \n",
    "    terms_df = pd.DataFrame.from_dict(out_dict_list)\n",
    "    \n",
    "    return terms_df"
   ]
  },
  {
   "cell_type": "code",
   "execution_count": null,
   "metadata": {},
   "outputs": [],
   "source": [
    "short_list = fire_csv_list[0:10]\n",
    "short_list.append('../../tweets/megafires/clean_csvs/2013-yarnell-hill-az.csv')\n",
    "full_sent_df = get_mean_sentiment(short_list)"
   ]
  },
  {
   "cell_type": "code",
   "execution_count": null,
   "metadata": {},
   "outputs": [],
   "source": [
    "atts_sent_df = base_df.merge(full_sent_df, on='origin_csv')\n",
    "basic_plot(atts_sent_df, 'sent_mean_vader')"
   ]
  }
 ],
 "metadata": {
  "kernelspec": {
   "display_name": "Python 3",
   "language": "python",
   "name": "python3"
  },
  "language_info": {
   "codemirror_mode": {
    "name": "ipython",
    "version": 3
   },
   "file_extension": ".py",
   "mimetype": "text/x-python",
   "name": "python",
   "nbconvert_exporter": "python",
   "pygments_lexer": "ipython3",
   "version": "3.5.2"
  }
 },
 "nbformat": 4,
 "nbformat_minor": 2
}
