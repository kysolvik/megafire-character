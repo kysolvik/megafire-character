{
 "cells": [
  {
   "cell_type": "markdown",
   "metadata": {},
   "source": [
    "# Spatial tweet exploration"
   ]
  },
  {
   "cell_type": "code",
   "execution_count": null,
   "metadata": {},
   "outputs": [],
   "source": [
    "import geopandas as gpd\n",
    "import glob\n",
    "import pandas as pd\n",
    "import os\n",
    "from ast import literal_eval\n",
    "from shapely.geometry import Point, MultiPoint, Polygon\n",
    "import matplotlib.pyplot as plt\n",
    "import numpy as np\n",
    "import pyproj\n",
    "import hdmedians as hd\n",
    "import datetime\n",
    "import ipywidgets as widgets\n",
    "import pandas as pd"
   ]
  },
  {
   "cell_type": "code",
   "execution_count": null,
   "metadata": {},
   "outputs": [],
   "source": [
    "fire_csv_list = sorted(glob.glob('../../tweets/megafires/clean_csvs/*.csv'))[:-1] # Ignore Taylor Creek for now"
   ]
  },
  {
   "cell_type": "code",
   "execution_count": null,
   "metadata": {},
   "outputs": [],
   "source": [
    "base_df = pd.DataFrame(None, index=range(len(fire_csv_list)), columns=[])\n",
    "base_df['origin_csv'] = [os.path.basename(f) for f in fire_csv_list]\n",
    "base_df['name'] = ['-'.join(os.path.basename(os.path.splitext(f)[0])\n",
    "                   .split('-')[1:]) for f in fire_csv_list]\n",
    "base_df['year'] = [os.path.basename(f).split('-')[0] for f in fire_csv_list]"
   ]
  },
  {
   "cell_type": "markdown",
   "metadata": {},
   "source": [
    "# Read and Plot"
   ]
  },
  {
   "cell_type": "code",
   "execution_count": null,
   "metadata": {},
   "outputs": [],
   "source": [
    "basemap = gpd.read_file(gpd.datasets.get_path('naturalearth_lowres'))\n",
    "\n",
    "def find_coord_order(df):\n",
    "    coord_1 = np.array([z[0] for z in df['Coordinates']])\n",
    "    coord_2 = np.array([z[1] for z in df['Coordinates']])\n",
    "    \n",
    "    if min(coord_1) < -70:\n",
    "        df['Coordinates'] = [[z[0], z[1]] for z in df['Coordinates']]\n",
    "    elif min(coord_2) < -70:\n",
    "        df['Coordinates'] = [[z[1], z[0]] for z in df['Coordinates']]\n",
    "    else:\n",
    "        ValueError('Coordinates not obviously lat/lon or lon/lat')\n",
    "        \n",
    "    return df\n",
    "        \n",
    "def gpd_read_fire_csv(csv_path):\n",
    "    # Important: Coordinates are not always in same order. Need to figure this out\n",
    "    wgs84_crs = {'init' :'epsg:4326'}\n",
    "    df = pd.read_csv(csv_path)\n",
    "    df.loc[df['Coordinates'].apply(str) == 'nan', 'Coordinates'] = '[]'\n",
    "    df = df.loc[df['Coordinates'] != '[]']\n",
    "    # Add comma to list\n",
    "    df.loc[~df['Coordinates'].str.contains(','), 'Coordinates'] = \\\n",
    "        df.loc[~df['Coordinates'].str.contains(','), 'Coordinates'].str.replace(r'([0-9])\\s+([-0-9])',r'\\1, \\2')\n",
    "    if df.shape[0] > 0:\n",
    "        df['Coordinates'] = df['Coordinates'].apply(literal_eval)\n",
    "        df = find_coord_order(df)\n",
    "        df['geometry'] = df.apply(lambda z: Point(z.Coordinates[0], z.Coordinates[1]), axis=1)\n",
    "        geo_df = gpd.GeoDataFrame(df, crs=wgs84_crs)\n",
    "        # Time stamps\n",
    "        valid_ts = geo_df.Timestamp.str[-3:] == \"UTC\"\n",
    "        geo_df = geo_df.loc[valid_ts]\n",
    "        geo_df['Timestamp'] = pd.to_datetime(geo_df.Timestamp, format='%Y-%m-%d %H:%M:%S UTC')\n",
    "        geo_df.sort_values(by='Timestamp', ascending=True, inplace=True)\n",
    "        return geo_df\n",
    "    else:\n",
    "        return df\n",
    "\n",
    "def plot_fire_tweets(csv_path):\n",
    "    geo_df = gpd_read_fire_csv(csv_path)\n",
    "    if geo_df.shape[0] > 0:\n",
    "        base = basemap.plot(figsize=(30,15))\n",
    "        geo_df.plot(ax = base, marker='o', color='red', markersize=30)\n",
    "        plt.show()\n",
    "    else:\n",
    "        print('No spatial tweets')"
   ]
  },
  {
   "cell_type": "code",
   "execution_count": null,
   "metadata": {},
   "outputs": [],
   "source": [
    "for fcsv in fire_csv_list:\n",
    "    print(os.path.basename(fcsv))\n",
    "    plot_fire_tweets(fcsv)"
   ]
  },
  {
   "cell_type": "markdown",
   "metadata": {},
   "source": [
    "# Explore center options\n",
    "It's important to come up with a metric of event center and capture spatial dispersion, so let's see what we can do"
   ]
  },
  {
   "cell_type": "code",
   "execution_count": null,
   "metadata": {},
   "outputs": [],
   "source": [
    "def get_init_center(df, min_tweets=10):\n",
    "    total_tweets = df.shape[0]\n",
    "    date_list = df.Timestamp.dt.date.unique()\n",
    "    if total_tweets < min_tweets:\n",
    "        sub_df = df\n",
    "    else:\n",
    "        first_ts = date_list[0]\n",
    "        date_index = 0\n",
    "        init_ts_list = [first_ts]\n",
    "        while df.Timestamp.dt.date.isin(init_ts_list).sum() < min_tweets:\n",
    "            date_index+=1\n",
    "            init_ts_list.append(date_list[date_index])\n",
    "        sub_df = df.loc[df.Timestamp.dt.date.isin(init_ts_list)]\n",
    "\n",
    "    init_center = np.array(hd.geomedian(np.array([sub_df.geometry.x,sub_df.geometry.y])))\n",
    "    \n",
    "    return init_center\n",
    "\n",
    "def plot_center(df, center_df):\n",
    "    base = basemap.plot(figsize=(30,15))\n",
    "    df.plot(ax = base, marker='o', color='red', markersize=30)\n",
    "    center_df.plot(ax = base, marker='o', color='green', markersize=100)\n",
    "    plt.show()\n",
    "    return\n",
    "    \n",
    "def plot_init_center(csv_path, min_tweets=10):\n",
    "    geo_df = gpd_read_fire_csv(csv_path)\n",
    "    if geo_df.shape[0] == 0:\n",
    "        print('No spatial tweets')\n",
    "        return\n",
    "    else:\n",
    "        center = get_init_center(geo_df, min_tweets=min_tweets)\n",
    "        center_point = Point(center[0], center[1])\n",
    "        center_df = gpd.GeoDataFrame(pd.DataFrame({'center':[center_point]}), geometry='center')\n",
    "        plot_center(geo_df, center_df)\n",
    "    return\n",
    "\n",
    "def plot_final_center(csv_path):\n",
    "    geo_df = gpd_read_fire_csv(csv_path)\n",
    "    if geo_df.shape[0] == 0:\n",
    "        print('No spatial tweets')\n",
    "        return\n",
    "    else:\n",
    "        center = np.array(hd.geomedian(np.array([geo_df.geometry.x, geo_df.geometry.y])))\n",
    "        center_point = Point(center[0], center[1])\n",
    "        center_df = gpd.GeoDataFrame(pd.DataFrame({'center':[center_point]}), geometry='center')\n",
    "        plot_center(geo_df, center_df)\n",
    "    return"
   ]
  },
  {
   "cell_type": "code",
   "execution_count": null,
   "metadata": {},
   "outputs": [],
   "source": [
    "# Plot initial and final centers for mcmurray\n",
    "plot_init_center(fire_csv_list[-2])\n",
    "plot_final_center(fire_csv_list[-2])"
   ]
  },
  {
   "cell_type": "code",
   "execution_count": null,
   "metadata": {},
   "outputs": [],
   "source": [
    "geo_df = gpd_read_fire_csv( '../../tweets/megafires/clean_csvs/2012-waldo-canyon-fire-co.csv')\n",
    "geo_df.shape"
   ]
  },
  {
   "cell_type": "code",
   "execution_count": null,
   "metadata": {},
   "outputs": [],
   "source": [
    "# Reproject coords based on event center\n",
    "def reproject_aeqd(geo_df, center):\n",
    "    lon = center[0]\n",
    "    lat = center[1]\n",
    "    aeqd = {'proj':'aeqd', 'ellps':'WGS84', 'datum':'WGS84', 'lat_0':lat, 'lon_0':lon}\n",
    "    return geo_df.to_crs(aeqd)\n",
    "\n",
    "def calc_date_distances(df):\n",
    "    center = get_init_center(df)\n",
    "    df = reproject_aeqd(df, center)\n",
    "    df['distance_from_center'] = df.geometry.distance(Point([0,0]))\n",
    "    df = df.loc[:, ['distance_from_center', 'Timestamp']]\n",
    "    date_grps = df.groupby(df.Timestamp.dt.date).quantile(.85)\n",
    "    date_grps['mean_dist_until_now'] = [df.loc[df.Timestamp.dt.date <= ts, 'distance_from_center'].quantile(.8) for ts in df.Timestamp.dt.date.unique()]\n",
    "    return date_grps\n",
    "\n",
    "def plot_mean_dist(df):\n",
    "    date_dist_df = calc_date_distances(df)\n",
    "    max_length = min(30, date_dist_df.shape[0])\n",
    "    plt.figure()\n",
    "    plt.plot(date_dist_df.index.values[:max_length], date_dist_df.mean_dist_until_now.values[:max_length])\n",
    "    plt.xticks(rotation=90)\n",
    "    plt.show()\n",
    "    "
   ]
  },
  {
   "cell_type": "code",
   "execution_count": null,
   "metadata": {},
   "outputs": [],
   "source": [
    "plot_mean_dist(geo_df)"
   ]
  },
  {
   "cell_type": "markdown",
   "metadata": {},
   "source": [
    "# Visualize spread of event"
   ]
  },
  {
   "cell_type": "code",
   "execution_count": null,
   "metadata": {},
   "outputs": [],
   "source": [
    "geo_df = gpd_read_fire_csv( '../../tweets/megafires/clean_csvs/2012-waldo-canyon-fire-co.csv')\n",
    "geo_df.shape"
   ]
  },
  {
   "cell_type": "code",
   "execution_count": null,
   "metadata": {},
   "outputs": [],
   "source": [
    "%matplotlib notebook\n",
    "import ipywidgets as widgets\n",
    "\n",
    "def date_widget(df):\n",
    "    start_date = df.Timestamp.dt.date.min()\n",
    "    end_date = df.Timestamp.dt.date.max()\n",
    "\n",
    "    dates = pd.date_range(start_date, end_date, freq='D')\n",
    "\n",
    "    options = [(date.strftime(' %d %b %Y '), date) for date in dates]\n",
    "\n",
    "    selection_slider = widgets.SelectionSlider(\n",
    "        options=options,\n",
    "        description='Dates',\n",
    "        orientation='horizontal',\n",
    "        layout={'width': '600px'}\n",
    "    )\n",
    "\n",
    "    return selection_slider\n",
    "\n",
    "\n",
    "def update_map(df, date, dots):\n",
    "    sub_df = df.loc[geo_df.Timestamp.dt.floor('D') <= date]\n",
    "    dots.set_xdata(sub_df.geometry.x)\n",
    "    dots.set_ydata(sub_df.geometry.y)\n",
    "    plt.show()\n",
    "    return\n",
    "\n",
    "\n",
    "fig, ax = plt.subplots(figsize=(10,5))\n",
    "basemap.plot(ax=ax)\n",
    "sel_slider = date_widget(geo_df)\n",
    "dots, = ax.plot(geo_df.geometry.x, geo_df.geometry.y, 'ro',markersize=3,alpha=0.1)\n",
    "\n",
    "widgets.interact(\n",
    "    update_map,\n",
    "    date=sel_slider,\n",
    "    df=widgets.fixed(geo_df),\n",
    "    dots=widgets.fixed(dots)\n",
    ");\n",
    "\n",
    "plot_mean_dist(geo_df)"
   ]
  },
  {
   "cell_type": "markdown",
   "metadata": {},
   "source": [
    "# Derive Metrics"
   ]
  },
  {
   "cell_type": "code",
   "execution_count": null,
   "metadata": {},
   "outputs": [],
   "source": [
    "def reproject_aeqd(geo_df, center):\n",
    "    lon = center[0]\n",
    "    lat = center[1]\n",
    "    aeqd = {'proj':'aeqd', 'ellps':'WGS84', 'datum':'WGS84', 'lat_0':lat, 'lon_0':lon}\n",
    "    return geo_df.to_crs(aeqd), aeqd\n",
    "\n",
    "def calc_spatial_metrics(geo_df):\n",
    "    out_dict = {}    \n",
    "    out_dict['volume_spatially_enabled'] = geo_df.shape[0]\n",
    "\n",
    "    # Distribution around center\n",
    "    out_dict['spatial_mean'] = [geo_df.geometry.x.mean(), geo_df.geometry.y.mean()]\n",
    "    out_dict['spatial_median'] = [geo_df.geometry.x.median(), geo_df.geometry.y.median()]\n",
    "    # geo_df, aeqd = reproject_aeqd(geo_df, [geo_df.geometry.x.median(),geo_df.geometry.y.median()])\n",
    "    geo_df, aeqd = reproject_aeqd(geo_df, [geo_df.sort_values(by='Timestamp')[0:50].geometry.x.median(),\n",
    "                                           geo_df.sort_values(by='Timestamp')[0:50].geometry.y.median()]) \n",
    "    base = basemap.to_crs(aeqd).plot(figsize=[30,10])\n",
    "    geo_df.geometry.plot(ax=base,marker='o', color='red', markersize=30)\n",
    "    multipoint_geo = MultiPoint(geo_df.geometry.values)\n",
    "    center = Point([0,0])\n",
    "    out_dict['spatial_convex_area'] = multipoint_geo.convex_hull.area\n",
    "    distances = geo_df.geometry.distance(center)\n",
    "    out_dict['spatial_min_dist'], out_dict['spatial_mean_dist'], out_dict['spatial_90p_dist'],\\\n",
    "        out_dict['spatial_max_dist'], out_dict['spatial_median_dist'], out_dict['spatial_std_dist'] =\\\n",
    "        distances.min(), distances.mean(), distances.quantile(.9), distances.max(), distances.median(), distances.std()\n",
    "    \n",
    "    # Irregularity, entropy, etc.\n",
    "    \n",
    "    return out_dict\n",
    "    \n",
    "    \n"
   ]
  },
  {
   "cell_type": "code",
   "execution_count": null,
   "metadata": {},
   "outputs": [],
   "source": [
    "geo_df = gpd_read_fire_csv(fire_csv_list[-2])"
   ]
  },
  {
   "cell_type": "code",
   "execution_count": null,
   "metadata": {},
   "outputs": [],
   "source": [
    "geo_df.sort_values(by='Timestamp')[0:50].geometry.x.median(), geo_df.sort_values(by='Timestamp')[0:50].geometry.y.median()"
   ]
  },
  {
   "cell_type": "code",
   "execution_count": null,
   "metadata": {},
   "outputs": [],
   "source": [
    "aeqd = {'proj':'aeqd', 'ellps':'WGS84', 'datum':'WGS84', 'lat_0':, 'lon_0':0}\n",
    "base = basemap.to_crs(aeqd).plot(figsize=[30,10])\n",
    "geo_df.to_crs(aeqd).geometry.plot(ax=base,marker='o', color='red', markersize=30)"
   ]
  },
  {
   "cell_type": "code",
   "execution_count": null,
   "metadata": {},
   "outputs": [],
   "source": [
    "geo_df."
   ]
  },
  {
   "cell_type": "markdown",
   "metadata": {},
   "source": [
    "# Movie Plot!"
   ]
  }
 ],
 "metadata": {
  "kernelspec": {
   "display_name": "Python 3",
   "language": "python",
   "name": "python3"
  },
  "language_info": {
   "codemirror_mode": {
    "name": "ipython",
    "version": 3
   },
   "file_extension": ".py",
   "mimetype": "text/x-python",
   "name": "python",
   "nbconvert_exporter": "python",
   "pygments_lexer": "ipython3",
   "version": "3.5.2"
  }
 },
 "nbformat": 4,
 "nbformat_minor": 2
}
