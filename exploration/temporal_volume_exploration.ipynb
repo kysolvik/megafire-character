{
 "cells": [
  {
   "cell_type": "code",
   "execution_count": null,
   "metadata": {},
   "outputs": [],
   "source": [
    "import glob\n",
    "import pandas as pd\n",
    "import os\n",
    "import matplotlib.pyplot as plt"
   ]
  },
  {
   "cell_type": "code",
   "execution_count": null,
   "metadata": {},
   "outputs": [],
   "source": [
    "fire_csv_list = sorted(glob.glob('../../tweets/megafires/clean_csvs/*.csv'))"
   ]
  },
  {
   "cell_type": "code",
   "execution_count": null,
   "metadata": {},
   "outputs": [],
   "source": [
    "base_df = pd.DataFrame(None, index=range(len(fire_csv_list)), columns=[])\n",
    "base_df['origin_csv'] = [os.path.basename(f) for f in fire_csv_list]\n",
    "base_df['name'] = ['-'.join(os.path.basename(os.path.splitext(f)[0])\n",
    "                   .split('-')[1:]) for f in fire_csv_list]\n",
    "base_df['year'] = [os.path.basename(f).split('-')[0] for f in fire_csv_list]"
   ]
  },
  {
   "cell_type": "markdown",
   "metadata": {},
   "source": [
    "# Function for basic bar plot on some column"
   ]
  },
  {
   "cell_type": "code",
   "execution_count": null,
   "metadata": {},
   "outputs": [],
   "source": [
    "def basic_plot(df, target_col):\n",
    "    plt.figure(figsize=(60,20), facecolor='white')\n",
    "    plt.tick_params(axis='both', which='major')\n",
    "    df = df.sort_values(target_col, ascending=False)\n",
    "    plt.bar(df['name'], df[target_col])\n",
    "    plt.xticks(fontsize=45, rotation=90)\n",
    "    plt.yticks(fontsize=40)\n",
    "    plt.ylabel(target_col, fontsize=60)\n",
    "\n",
    "    plt.show()"
   ]
  },
  {
   "cell_type": "markdown",
   "metadata": {},
   "source": [
    "# Volume Stats"
   ]
  },
  {
   "cell_type": "code",
   "execution_count": null,
   "metadata": {},
   "outputs": [],
   "source": [
    "import datetime"
   ]
  },
  {
   "cell_type": "code",
   "execution_count": null,
   "metadata": {},
   "outputs": [],
   "source": [
    "def read_df_timestamps(csv_path):\n",
    "    df = pd.read_csv(csv_path)\n",
    "    # Drop invalid timestamps\n",
    "    valid_ts = df.Timestamp.str[-3:] == \"UTC\"\n",
    "    df = df.loc[valid_ts]\n",
    "    df['Timestamp'] = pd.to_datetime(df.Timestamp, format='%Y-%m-%d %H:%M:%S UTC')\n",
    "    return df\n",
    "\n",
    "def read_plot_days(csv_path):\n",
    "    df = read_df_timestamps(csv_path)\n",
    "    plt.figure(figsize=(20,10), facecolor='white')\n",
    "    df['Timestamp'].groupby(\n",
    "        [df['Timestamp'].dt.year, df['Timestamp'].dt.month]\n",
    "    ).count().plot(kind=\"bar\")\n",
    "    \n",
    "def volume_stats(df):\n",
    "    out_dict = {}\n",
    "    ts = df['Timestamp']\n",
    "    out_dict['first_tweet'] = ts.min()\n",
    "    out_dict['last_tweet'] =  ts.max()\n",
    "    out_dict['vol_length_days'] = (ts.max() - ts.min()).days\n",
    "    ts_day_counts = ts.groupby([ts.dt.year, ts.dt.month, ts.dt.day]).count()\n",
    "    ts_hour_counts = ts.groupby([ts.dt.year, ts.dt.month, ts.dt.day, ts.dt.hour]).count()\n",
    "    out_dict['vol_max_hour'] = ts_hour_counts.max()\n",
    "    out_dict['vol_max_day'] = ts_day_counts.max()\n",
    "    out_dict['vol_avg_daily'] = ts_day_counts.mean()\n",
    "    out_dict['vol_min_daily'] = ts_day_counts.min()\n",
    "    out_dict['vol_total'] = ts.shape[0]\n",
    "    return out_dict"
   ]
  },
  {
   "cell_type": "code",
   "execution_count": null,
   "metadata": {},
   "outputs": [],
   "source": [
    "\n",
    "out_dict_list = []\n",
    "for fcsv in fire_csv_list:\n",
    "    df = read_df_timestamps(fcsv)\n",
    "    out_dict = volume_stats(df)\n",
    "    out_dict['origin_csv'] = os.path.basename(fcsv)\n",
    "    out_dict_list.append(out_dict)\n",
    "vol_df = pd.DataFrame.from_dict(out_dict_list)"
   ]
  },
  {
   "cell_type": "code",
   "execution_count": null,
   "metadata": {},
   "outputs": [],
   "source": [
    "atts_df = base_df.merge(vol_df, on='origin_csv')"
   ]
  },
  {
   "cell_type": "code",
   "execution_count": null,
   "metadata": {},
   "outputs": [],
   "source": [
    "basic_plot(atts_df, 'vol_max_hour')"
   ]
  },
  {
   "cell_type": "markdown",
   "metadata": {},
   "source": [
    "# Tweet Deltas and Entropy"
   ]
  },
  {
   "cell_type": "code",
   "execution_count": null,
   "metadata": {},
   "outputs": [],
   "source": [
    "import scipy.stats\n",
    "import numpy as np"
   ]
  },
  {
   "cell_type": "code",
   "execution_count": null,
   "metadata": {},
   "outputs": [],
   "source": [
    "def tweet_entropy(deltas):\n",
    "    delta_histo = np.histogram(deltas, np.arange(0,np.max(deltas)+120,120))\n",
    "    return scipy.stats.entropy(delta_histo[0])\n",
    "\n",
    "def delta_stats(df):\n",
    "    out_dict = {}\n",
    "    tweet_times = df['Timestamp'].values\n",
    "    # Times between tweets\n",
    "    tweet_deltas_s = np.diff(tweet_times)/np.timedelta64(1, 's')\n",
    "    out_dict['delta_entropy'] = tweet_entropy(tweet_deltas_s)\n",
    "    out_dict['delta_mean_sec'] = np.mean(tweet_deltas_s)\n",
    "    out_dict['delta_max_sec'] = np.max(tweet_deltas_s)\n",
    "    out_dict['delta_min_sec'] = np.min(tweet_deltas_s)\n",
    "    out_dict['delta_std_sec'] = np.std(tweet_deltas_s)\n",
    "\n",
    "    return out_dict"
   ]
  },
  {
   "cell_type": "code",
   "execution_count": null,
   "metadata": {},
   "outputs": [],
   "source": [
    "out_dict_list = []\n",
    "for fcsv in fire_csv_list:\n",
    "    df = read_df_timestamps(fcsv)\n",
    "    out_dict = delta_stats(df)\n",
    "    out_dict['origin_csv'] = os.path.basename(fcsv)\n",
    "    out_dict_list.append(out_dict)\n",
    "delta_df = pd.DataFrame.from_dict(out_dict_list)\n"
   ]
  },
  {
   "cell_type": "code",
   "execution_count": null,
   "metadata": {},
   "outputs": [],
   "source": [
    "atts_df = atts_df.merge(delta_df, on='origin_csv')"
   ]
  },
  {
   "cell_type": "code",
   "execution_count": null,
   "metadata": {},
   "outputs": [],
   "source": [
    "atts_df.columns"
   ]
  },
  {
   "cell_type": "code",
   "execution_count": null,
   "metadata": {},
   "outputs": [],
   "source": [
    "basic_plot(atts_df,'delta_entropy')"
   ]
  }
 ],
 "metadata": {
  "kernelspec": {
   "display_name": "Python 3",
   "language": "python",
   "name": "python3"
  },
  "language_info": {
   "codemirror_mode": {
    "name": "ipython",
    "version": 3
   },
   "file_extension": ".py",
   "mimetype": "text/x-python",
   "name": "python",
   "nbconvert_exporter": "python",
   "pygments_lexer": "ipython3",
   "version": "3.5.2"
  }
 },
 "nbformat": 4,
 "nbformat_minor": 2
}
