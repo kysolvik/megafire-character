{
 "cells": [
  {
   "cell_type": "markdown",
   "metadata": {},
   "source": [
    "# Named entity recognition"
   ]
  },
  {
   "cell_type": "code",
   "execution_count": null,
   "metadata": {},
   "outputs": [],
   "source": [
    "import spacy\n",
    "import glob\n",
    "import pandas as pd\n",
    "import os\n",
    "import matplotlib.pyplot as plt\n",
    "import datetime\n",
    "import re\n",
    "from textblob import TextBlob\n",
    "from spacy import displacy\n",
    "nlp = spacy.load('en_core_web_sm')"
   ]
  },
  {
   "cell_type": "code",
   "execution_count": null,
   "metadata": {},
   "outputs": [],
   "source": [
    "fire_csv_list = sorted(glob.glob('../../tweets/megafires/clean_csvs/*.csv'))"
   ]
  },
  {
   "cell_type": "code",
   "execution_count": null,
   "metadata": {},
   "outputs": [],
   "source": [
    "def read_df_timestamps(csv_path):\n",
    "    df = pd.read_csv(csv_path)\n",
    "    # Drop invalid timestamps\n",
    "    valid_ts = df.Timestamp.str[-3:] == \"UTC\"\n",
    "    df = df.loc[valid_ts]\n",
    "    df['Timestamp'] = pd.to_datetime(df.Timestamp, format='%Y-%m-%d %H:%M:%S UTC')\n",
    "    return df\n",
    "\n",
    "def remove_url(txt):\n",
    "    \"\"\"Replace URLs found in a text string with nothing \n",
    "    (i.e. it will remove the URL from the string).\n",
    "\n",
    "    Parameters\n",
    "    ----------\n",
    "    txt : string\n",
    "        A text string that you want to parse and remove urls.\n",
    "\n",
    "    Returns\n",
    "    -------\n",
    "    The same txt string with url's removed.\n",
    "    \"\"\"\n",
    "\n",
    "    return \" \".join(re.sub(\"([^0-9A-Za-z \\t])|(\\w+:\\/\\/\\S+)\", \"\", txt).split())\n",
    "\n",
    "def remove_special_characters(df):\n",
    "    # Remove RT\n",
    "    df['clean_text'] = df['clean_text'].str.replace(r'\\b[Rr][Tt]\\b', '')\n",
    "    # Remove hashtags\n",
    "    df['clean_text'] = df['clean_text'].str.replace(r'(#|@)', '')\n",
    "    return df\n",
    "\n",
    "\n",
    "def clean_tweet_text(df, lower_case=True):\n",
    "    \"\"\"Clean Tweet Text, optionally lowercasing all\"\"\"\n",
    "    if lower_case:\n",
    "        df['clean_text'] = df['Text'].str.lower().apply(remove_url)\n",
    "    else:\n",
    "        df['clean_text'] = df['Text'].apply(remove_url)\n",
    "    df = remove_special_characters(df)\n",
    "\n",
    "    return df"
   ]
  },
  {
   "cell_type": "markdown",
   "metadata": {},
   "source": [
    "# Basic NER testing with spaCy"
   ]
  },
  {
   "cell_type": "code",
   "execution_count": null,
   "metadata": {},
   "outputs": [],
   "source": [
    "test_df = clean_tweet_text(read_df_timestamps('/home/tweets/megafires/clean_csvs/2013-yarnell-hill-az.csv'),\n",
    "                lower_case=False)"
   ]
  },
  {
   "cell_type": "code",
   "execution_count": null,
   "metadata": {},
   "outputs": [],
   "source": [
    "for t in test_df.clean_text.values[1000:1020]:\n",
    "    \n",
    "    doc = nlp(t)\n",
    "    if len(doc.ents)>0:\n",
    "        svg = displacy.render(doc, style='ent', jupyter=True)"
   ]
  }
 ],
 "metadata": {
  "kernelspec": {
   "display_name": "Python 3",
   "language": "python",
   "name": "python3"
  },
  "language_info": {
   "codemirror_mode": {
    "name": "ipython",
    "version": 3
   },
   "file_extension": ".py",
   "mimetype": "text/x-python",
   "name": "python",
   "nbconvert_exporter": "python",
   "pygments_lexer": "ipython3",
   "version": "3.5.2"
  }
 },
 "nbformat": 4,
 "nbformat_minor": 2
}
